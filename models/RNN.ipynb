{
 "cells": [
  {
   "cell_type": "markdown",
   "id": "092a0c25-2406-4c7b-84e9-c4b5adbcc308",
   "metadata": {},
   "source": [
    "# RNN的Pytorch API使用以及手动实现RNN Forward函数\n",
    "- 这里实现了三种情况：\n",
    "    - 单向、单层的RNN\n",
    "    - 单向、双层的RNN\n",
    "    - 双向、单层的RNN\n",
    "- 如果是双向，那么这两层的输入都是一样的（比如对于第一层来说，输入都是x），只不过顺序要反转一下，可以使用`torch.flip()`\n",
    "- 如果是多层，那么上面层的输入是下面层的输出\n",
    "\n",
    "\n",
    "- RNN Forward公式：\n",
    "    - ![rnn_forward](<https://github.com/ZiLaoTou/Study/blob/main/models/pictures/rnn_forward.png?raw=true>)"
   ]
  },
  {
   "cell_type": "markdown",
   "id": "b9e164d8-1c88-4df9-8220-5e58d13ebdd4",
   "metadata": {},
   "source": [
    "## 包导入和参数设置"
   ]
  },
  {
   "cell_type": "code",
   "execution_count": 1,
   "id": "85e424bd-f7bd-4433-abc1-84efcce0bb42",
   "metadata": {},
   "outputs": [],
   "source": [
    "import torch\n",
    "import torch.nn as nn\n",
    "import torch.nn.functional as F\n",
    "\n",
    "batch_size, seq_len = 2, 3  # 批大小, 输入序列长度\n",
    "input_size, hidden_size = 2, 3  # 输入特征大小feature, 隐藏层大小\n",
    "input = torch.randn(batch_size, seq_len, input_size)  # 随机初始化一个特征序列\n",
    "h_prev = torch.zeros(batch_size, hidden_size)  # 初始隐含状态\n"
   ]
  },
  {
   "cell_type": "markdown",
   "id": "a1834e45-8f1e-4727-b6b4-36764877ad3f",
   "metadata": {},
   "source": [
    "## 单向、单层"
   ]
  },
  {
   "cell_type": "code",
   "execution_count": 2,
   "id": "3a9fc994-a9ca-4190-a2ec-aeab749288de",
   "metadata": {},
   "outputs": [
    {
     "name": "stdout",
     "output_type": "stream",
     "text": [
      "torch.Size([2, 3, 3])\n",
      "torch.Size([1, 2, 3])\n"
     ]
    }
   ],
   "source": [
    "# 单向、单层RNN Pytorch API\n",
    "rnn = nn.RNN(input_size, hidden_size, batch_first=True, num_layers=1)  # number_layers默认为1\n",
    "output, h_n = rnn(input, h_prev.unsqueeze(0))  # h_prev: [num_layers, b, hidden_size]\n",
    "\n",
    "print(output.shape)  # [2,3,3] [batch_size, seq_len, hidden_size]\n",
    "print(h_n.shape)  # [1,2,3] [D*num_layers, batch_size, hidden_size]\n"
   ]
  },
  {
   "cell_type": "code",
   "execution_count": 3,
   "id": "0963ab4f-bbfd-4def-a3d5-f88986c71c7c",
   "metadata": {},
   "outputs": [
    {
     "name": "stdout",
     "output_type": "stream",
     "text": [
      "weight_ih_l0 torch.Size([3, 2])\n",
      "weight_hh_l0 torch.Size([3, 3])\n",
      "bias_ih_l0 torch.Size([3])\n",
      "bias_hh_l0 torch.Size([3])\n"
     ]
    }
   ],
   "source": [
    "for name, para in rnn.named_parameters():\n",
    "    print(name, para.shape)\n"
   ]
  },
  {
   "cell_type": "code",
   "execution_count": 4,
   "id": "238004cb-9e3b-4db2-8b74-1367a029aa8c",
   "metadata": {},
   "outputs": [],
   "source": [
    "def rnn_forward(input, weight_ih, weight_hh, bias_ih, bias_hh, h_prev):\n",
    "    batch_size, seq_len, input_size = input.shape\n",
    "    hidden_size = h_prev.shape[-1]\n",
    "    output = torch.zeros(batch_size, seq_len, hidden_size)  # 初始化一个输出（状态）矩阵\n",
    "\n",
    "    for t in range(seq_len):  # RNN的计算复杂度是与序列长度呈线性相关的\n",
    "        #-------------------实现 1------------------\n",
    "        # x = input[:, t, :].unsqueeze(1)  # 获取当前时刻输入特征， [b, input_size] -> [b, 1, input_size]\n",
    "        # w_ih_batch = weight_ih.unsqueeze(0).tile(batch_size, 1, 1)  # [b, hidden_size, input_size]\n",
    "        # w_hh_batch = weight_hh.unsqueeze(0).tile(batch_size, 1, 1)  # [b, hidden_size, hidden_size]\n",
    "\n",
    "        # w_times_x = torch.bmm(x, w_ih_batch.transpose(1, 2)).squeeze(1)  # 含有batch批大小的矩阵相乘\n",
    "        # # [b, 1, input_size] * [b, input_size, hidden_size] -> [b, 1, hidden_size] -> [b, hidden_size]\n",
    "        # w_times_h = torch.bmm(h_prev.unsqueeze(1), w_hh_batch.transpose(1, 2)).squeeze(1)\n",
    "        # # [b, 1, hidden_size] * [b, hidden_size, hidden_size] -> [b, 1, hidden_size] -> [b, hidden_size]\n",
    "        # h_prev = torch.tanh(w_times_x + bias_ih + w_times_h + bias_hh)  # [b, hidden]  bias相加的时候使用了广播机制\n",
    "        # output[:, t, :] = h_prev\n",
    "        #-------------------实现 2------------------\n",
    "        x = input[:, t, :]\n",
    "        w_times_x = x @ weight_ih.T\n",
    "        w_times_h = h_prev @ weight_hh.T\n",
    "        h_prev = torch.tanh(w_times_x + bias_ih + w_times_h + bias_hh)    # [b, hidden]  bias相加的时候使用了广播机制\n",
    "        output[:, t, :] = h_prev\n",
    "        \n",
    "    return output, h_prev.unsqueeze(0)  # 官方是三维，在第0维扩一维\n"
   ]
  },
  {
   "cell_type": "code",
   "execution_count": 5,
   "id": "d12700bd-d652-46d5-bd4b-116fae8a8416",
   "metadata": {},
   "outputs": [],
   "source": [
    "# 这里使用 rnn 中的参数\n",
    "# 加了me表示自己手写的\n",
    "output_me, h_n_me = rnn_forward(input, rnn.weight_ih_l0, rnn.weight_hh_l0,\n",
    "                                rnn.bias_ih_l0, rnn.bias_hh_l0, h_prev)\n"
   ]
  },
  {
   "cell_type": "code",
   "execution_count": 6,
   "id": "1cf8fc6a-c075-48fe-85ce-db1cb40452d4",
   "metadata": {},
   "outputs": [
    {
     "name": "stdout",
     "output_type": "stream",
     "text": [
      "PyTorch API output:\n",
      "tensor([[[-0.1809, -0.2195,  0.6097],\n",
      "         [ 0.6241,  0.2887,  0.6759],\n",
      "         [-0.6642,  0.0170, -0.0428]],\n",
      "\n",
      "        [[-0.6516, -0.4708,  0.3410],\n",
      "         [ 0.5613, -0.4842,  0.8286],\n",
      "         [ 0.8614,  0.4550,  0.7472]]], grad_fn=<TransposeBackward1>)\n",
      "tensor([[[-0.6642,  0.0170, -0.0428],\n",
      "         [ 0.8614,  0.4550,  0.7472]]], grad_fn=<StackBackward0>)\n",
      "\n",
      "rnn_forward function output:\n",
      "tensor([[[-0.1809, -0.2195,  0.6097],\n",
      "         [ 0.6241,  0.2887,  0.6759],\n",
      "         [-0.6642,  0.0170, -0.0428]],\n",
      "\n",
      "        [[-0.6516, -0.4708,  0.3410],\n",
      "         [ 0.5613, -0.4842,  0.8286],\n",
      "         [ 0.8614,  0.4550,  0.7472]]], grad_fn=<CopySlices>)\n",
      "tensor([[[-0.6642,  0.0170, -0.0428],\n",
      "         [ 0.8614,  0.4550,  0.7472]]], grad_fn=<UnsqueezeBackward0>)\n"
     ]
    }
   ],
   "source": [
    "print(\"PyTorch API output:\")\n",
    "print(output)  # [2,3,3] [batch_size, seq_len, hidden_size]\n",
    "print(h_n)  # [1,2,3] [num_layers, batch_size, hidden_size]\n",
    "print(\"\\nrnn_forward function output:\")\n",
    "print(output_me)  # [2, 3, 3]\n",
    "print(h_n_me)  # [1, 2, 3]\n"
   ]
  },
  {
   "cell_type": "markdown",
   "id": "d06a08bb-0c04-471d-ab9c-dc1db782fa29",
   "metadata": {},
   "source": [
    "## 单向、双层"
   ]
  },
  {
   "cell_type": "code",
   "execution_count": 7,
   "id": "78574a27-86d2-4d4f-ab5a-dfe5256c9f1b",
   "metadata": {},
   "outputs": [
    {
     "name": "stdout",
     "output_type": "stream",
     "text": [
      "torch.Size([2, 3, 3])\n",
      "torch.Size([2, 2, 3])\n"
     ]
    }
   ],
   "source": [
    "# 单向、双层RNN Pytorch API\n",
    "rnn_2layer = nn.RNN(input_size, hidden_size, batch_first=True, num_layers=2)  # number_layers默认为1\n",
    "h_prev_2layer = torch.zeros(2, batch_size, hidden_size)  # 初始隐含状态\n",
    "output_2layer, h_n_2layer = rnn_2layer(input, h_prev_2layer)  # h_prev: [num_layers, b, hidden_size]\n",
    "\n",
    "print(output_2layer.shape)  # [2,3,3] [batch_size, seq_len, hidden_size]\n",
    "print(h_n_2layer.shape)  # [1,2,3] [D*num_layers, batch_size, hidden_size]\n"
   ]
  },
  {
   "cell_type": "code",
   "execution_count": 8,
   "id": "7f08576a-570a-40c3-9ab2-9b7f8ea73ddf",
   "metadata": {},
   "outputs": [
    {
     "name": "stdout",
     "output_type": "stream",
     "text": [
      "weight_ih_l0 torch.Size([3, 2])\n",
      "weight_hh_l0 torch.Size([3, 3])\n",
      "bias_ih_l0 torch.Size([3])\n",
      "bias_hh_l0 torch.Size([3])\n",
      "weight_ih_l1 torch.Size([3, 3])\n",
      "weight_hh_l1 torch.Size([3, 3])\n",
      "bias_ih_l1 torch.Size([3])\n",
      "bias_hh_l1 torch.Size([3])\n"
     ]
    }
   ],
   "source": [
    "for name, para in rnn_2layer.named_parameters():\n",
    "    print(name, para.shape)"
   ]
  },
  {
   "cell_type": "code",
   "execution_count": 9,
   "id": "669b6c3d-a355-4f16-8cd8-3e2ae3fa236b",
   "metadata": {},
   "outputs": [],
   "source": [
    "output1_me_2layer, h1_n_me_2layer = rnn_forward(input, rnn_2layer.weight_ih_l0, rnn_2layer.weight_hh_l0,\n",
    "                                rnn_2layer.bias_ih_l0, rnn_2layer.bias_hh_l0, h_prev_2layer[0])\n",
    "\n",
    "output2_me_2layer, h2_n_me_2layer = rnn_forward(output1_me_2layer, rnn_2layer.weight_ih_l1, rnn_2layer.weight_hh_l1,\n",
    "                                rnn_2layer.bias_ih_l1, rnn_2layer.bias_hh_l1, h_prev_2layer[1])\n",
    "output_me_2layer = output2_me_2layer\n",
    "h_n_me_2layer = torch.concat((h1_n_me_2layer, h2_n_me_2layer), dim=0)"
   ]
  },
  {
   "cell_type": "code",
   "execution_count": 10,
   "id": "d5ccad7a-0f95-4ddd-8a65-7fd630215614",
   "metadata": {},
   "outputs": [
    {
     "name": "stdout",
     "output_type": "stream",
     "text": [
      "PyTorch API output:\n",
      "tensor([[[ 0.1927,  0.1880,  0.7041],\n",
      "         [ 0.1093,  0.5192,  0.6723],\n",
      "         [-0.1558,  0.4954,  0.5601]],\n",
      "\n",
      "        [[-0.0698,  0.1778,  0.6435],\n",
      "         [-0.1151,  0.4738,  0.5220],\n",
      "         [ 0.5878,  0.5104,  0.6434]]], grad_fn=<TransposeBackward1>)\n",
      "tensor([[[ 0.2120,  0.7518,  0.9251],\n",
      "         [ 0.9036, -0.5829,  0.1611]],\n",
      "\n",
      "        [[-0.1558,  0.4954,  0.5601],\n",
      "         [ 0.5878,  0.5104,  0.6434]]], grad_fn=<StackBackward0>)\n",
      "\n",
      "rnn_forward function output:\n",
      "tensor([[[ 0.1927,  0.1880,  0.7041],\n",
      "         [ 0.1093,  0.5192,  0.6723],\n",
      "         [-0.1558,  0.4954,  0.5601]],\n",
      "\n",
      "        [[-0.0698,  0.1778,  0.6435],\n",
      "         [-0.1151,  0.4738,  0.5220],\n",
      "         [ 0.5878,  0.5104,  0.6434]]], grad_fn=<CopySlices>)\n",
      "tensor([[[ 0.2120,  0.7518,  0.9251],\n",
      "         [ 0.9036, -0.5829,  0.1611]],\n",
      "\n",
      "        [[-0.1558,  0.4954,  0.5601],\n",
      "         [ 0.5878,  0.5104,  0.6434]]], grad_fn=<CatBackward0>)\n"
     ]
    }
   ],
   "source": [
    "print(\"PyTorch API output:\")\n",
    "print(output_2layer)  # [2,3,3] [batch_size, seq_len, hidden_size]\n",
    "print(h_n_2layer)  # [1,2,3] [num_layers, batch_size, hidden_size]\n",
    "print(\"\\nrnn_forward function output:\")\n",
    "print(output_me_2layer)  # [2, 3, 3]\n",
    "print(h_n_me_2layer)  # [1, 2, 3]"
   ]
  },
  {
   "cell_type": "markdown",
   "id": "3b2ee86e-edc4-4db8-9b78-aa39930fb0d0",
   "metadata": {},
   "source": [
    "## 双向、单层"
   ]
  },
  {
   "cell_type": "code",
   "execution_count": 11,
   "id": "be26c324-2138-4ca5-9fb4-07a4592b767d",
   "metadata": {},
   "outputs": [
    {
     "name": "stdout",
     "output_type": "stream",
     "text": [
      "weight_ih_l0 \t torch.Size([3, 2])\n",
      "weight_hh_l0 \t torch.Size([3, 3])\n",
      "bias_ih_l0 \t torch.Size([3])\n",
      "bias_hh_l0 \t torch.Size([3])\n",
      "weight_ih_l0_reverse \t torch.Size([3, 2])\n",
      "weight_hh_l0_reverse \t torch.Size([3, 3])\n",
      "bias_ih_l0_reverse \t torch.Size([3])\n",
      "bias_hh_l0_reverse \t torch.Size([3])\n"
     ]
    }
   ],
   "source": [
    "# 双向、单层RNN Pytorch API\n",
    "bi_rnn = nn.RNN(input_size, hidden_size, batch_first=True, bidirectional=True)  # number_layers默认为1\n",
    "h_prev = torch.zeros(2, batch_size, hidden_size)  # 初始隐含状态\n",
    "bi_output, bi_h_n = bi_rnn(input, h_prev)  # h_prev: [D*num_layers, b, hidden_size]\n",
    "for name, para in bi_rnn.named_parameters():\n",
    "    print(name, \"\\t\", para.shape)\n"
   ]
  },
  {
   "cell_type": "code",
   "execution_count": 12,
   "id": "d887fa26-5133-421f-8aa2-d48c5679d21d",
   "metadata": {},
   "outputs": [],
   "source": [
    "def bidirectional_rnn_forward(input, weight_ih, weight_hh, bias_ih, bias_hh, h_prev,\n",
    "                              weight_ih_reverse, weight_hh_reverse, bias_ih_reverse, bias_hh_reverse, h_prev_reverse):\n",
    "    batch_size, seq_len, input_size = input.shape\n",
    "    hidden_size = h_prev.shape[-1]  # 这里只能用方括号\n",
    "    output = torch.zeros(batch_size, seq_len, hidden_size * 2)  # 初始化一个输出（状态）矩阵 [b,seq_len,D*hidden_size]\n",
    "    # 注意双向是两倍的 hidden_size\n",
    "\n",
    "    forward_out, _ =rnn_forward(input, weight_ih, weight_hh, bias_ih, bias_hh, h_prev)  # forward layer\n",
    "    backward_out, _ = rnn_forward(torch.flip(input, [1]), weight_ih_reverse, weight_hh_reverse,\n",
    "                                  bias_ih_reverse, bias_hh_reverse, h_prev_reverse)\n",
    "    # backward layer 反向的时候需要将 input 在 seq_len 这一维进行翻转\n",
    "    output[:, :, :hidden_size] = forward_out\n",
    "    output[:, :, hidden_size:] = torch.flip(backward_out, [1])\n",
    "\n",
    "    h_n = torch.zeros(batch_size, 2, hidden_size)\n",
    "    h_n[:, 0, :] = forward_out[:, -1, :]  # forward_out中最后一个seq的状态\n",
    "    h_n[:, 1, :] = backward_out[:, -1, :]  # backward_out中最后一个seq的状态\n",
    "    return output, h_n.transpose(0, 1)  # 转换为[num_layers, b, hidden_size]\n"
   ]
  },
  {
   "cell_type": "code",
   "execution_count": 13,
   "id": "95815106-af02-40d8-9515-9d66f8bf55d1",
   "metadata": {},
   "outputs": [
    {
     "name": "stdout",
     "output_type": "stream",
     "text": [
      "PyTorch API output:\n",
      "tensor([[[ 0.5409,  0.6234, -0.1404, -0.0441,  0.1104,  0.9436],\n",
      "         [-0.2243,  0.7065,  0.4948, -0.7582,  0.7586,  0.7575],\n",
      "         [ 0.6775,  0.0336, -0.5918, -0.0537,  0.0134,  0.9066]],\n",
      "\n",
      "        [[ 0.8411,  0.2166, -0.6354,  0.3184, -0.2873,  0.9147],\n",
      "         [ 0.5560,  0.8209, -0.0963,  0.0167,  0.2557,  0.9205],\n",
      "         [-0.5991,  0.9558,  0.7247, -0.8570,  0.9307,  0.3098]]],\n",
      "       grad_fn=<TransposeBackward1>)\n",
      "tensor([[[ 0.6775,  0.0336, -0.5918],\n",
      "         [-0.5991,  0.9558,  0.7247]],\n",
      "\n",
      "        [[-0.0441,  0.1104,  0.9436],\n",
      "         [ 0.3184, -0.2873,  0.9147]]], grad_fn=<StackBackward0>)\n",
      "\n",
      "bidirectional_rnn_forward function output:\n",
      "tensor([[[ 0.5409,  0.6234, -0.1404, -0.0441,  0.1104,  0.9436],\n",
      "         [-0.2243,  0.7065,  0.4948, -0.7582,  0.7586,  0.7575],\n",
      "         [ 0.6775,  0.0336, -0.5918, -0.0537,  0.0134,  0.9066]],\n",
      "\n",
      "        [[ 0.8411,  0.2166, -0.6354,  0.3184, -0.2873,  0.9147],\n",
      "         [ 0.5560,  0.8209, -0.0963,  0.0167,  0.2557,  0.9205],\n",
      "         [-0.5991,  0.9558,  0.7247, -0.8570,  0.9307,  0.3098]]],\n",
      "       grad_fn=<CopySlices>)\n",
      "tensor([[[ 0.6775,  0.0336, -0.5918],\n",
      "         [-0.5991,  0.9558,  0.7247]],\n",
      "\n",
      "        [[-0.0441,  0.1104,  0.9436],\n",
      "         [ 0.3184, -0.2873,  0.9147]]], grad_fn=<TransposeBackward0>)\n"
     ]
    }
   ],
   "source": [
    "bi_output_me, bi_h_n_me = bidirectional_rnn_forward(input, bi_rnn.weight_ih_l0,\n",
    "                                                    bi_rnn.weight_hh_l0, bi_rnn.bias_ih_l0,\n",
    "                                                    bi_rnn.bias_hh_l0, h_prev[0],\n",
    "                                                    bi_rnn.weight_ih_l0_reverse,\n",
    "                                                    bi_rnn.weight_hh_l0_reverse,\n",
    "                                                    bi_rnn.bias_ih_l0_reverse,\n",
    "                                                    bi_rnn.bias_hh_l0_reverse, h_prev[1])\n",
    "# 这里注意一下h_prev的维度[2,b,hidden_size]，h_prev[0]是[b, hidden_size],与传入rnn_forward的维度保持一致\n",
    "\n",
    "print(\"PyTorch API output:\")\n",
    "print(bi_output)  # [2,3,6] [b, seq_len, D*hidden_size]\n",
    "print(bi_h_n)  # [2,2,3] [D*num_layers, b, hidden_size]\n",
    "print(\"\\nbidirectional_rnn_forward function output:\")\n",
    "print(bi_output_me)  # [2,3,6]\n",
    "print(bi_h_n_me)  # [2,2,3]\n"
   ]
  }
 ],
 "metadata": {
  "kernelspec": {
   "display_name": "Python 3 (ipykernel)",
   "language": "python",
   "name": "python3"
  },
  "language_info": {
   "codemirror_mode": {
    "name": "ipython",
    "version": 3
   },
   "file_extension": ".py",
   "mimetype": "text/x-python",
   "name": "python",
   "nbconvert_exporter": "python",
   "pygments_lexer": "ipython3",
   "version": "3.11.6"
  }
 },
 "nbformat": 4,
 "nbformat_minor": 5
}
